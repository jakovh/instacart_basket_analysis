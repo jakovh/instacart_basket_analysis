{
 "cells": [
  {
   "cell_type": "markdown",
   "id": "b191c143",
   "metadata": {},
   "source": [
    "# Import libraries"
   ]
  },
  {
   "cell_type": "code",
   "execution_count": 1,
   "id": "b3bbad7b",
   "metadata": {},
   "outputs": [],
   "source": [
    "import pandas as pd\n",
    "import numpy as np\n",
    "import os"
   ]
  },
  {
   "cell_type": "markdown",
   "id": "93fc9d17",
   "metadata": {},
   "source": [
    "# Load data"
   ]
  },
  {
   "cell_type": "code",
   "execution_count": 3,
   "id": "55b4198e",
   "metadata": {},
   "outputs": [],
   "source": [
    "# define the path and assign dataframes to the \"df\" variables\n",
    "\n",
    "path = r'C:\\Users\\Jakov\\2023 Instacart Basket Analysis'\n",
    "\n",
    "df_ords = pd.read_csv(os.path.join(path, '02 Data', 'Prepared Data', 'orders_checked.csv'), index_col = 0)\n",
    "df_prods = pd.read_csv(os.path.join(path, '02 Data', 'Prepared Data', 'products_checked.csv'), index_col = 0)\n",
    "df_ords_prods_merge = pd.read_pickle(os.path.join(path, '02 Data', 'Prepared Data', 'orders_products_with_names_merged.pkl'))"
   ]
  },
  {
   "cell_type": "markdown",
   "id": "3c3bf2a8",
   "metadata": {},
   "source": [
    "# Add price label column"
   ]
  },
  {
   "cell_type": "code",
   "execution_count": 12,
   "id": "c2831cd2",
   "metadata": {},
   "outputs": [],
   "source": [
    "df = df_ords_prods_merge[:1000000]"
   ]
  },
  {
   "cell_type": "code",
   "execution_count": 6,
   "id": "30b23203",
   "metadata": {},
   "outputs": [],
   "source": [
    "def price_label(row):\n",
    "\n",
    "  if row['prices'] <= 5:\n",
    "    return 'Low-range product'\n",
    "  elif (row['prices'] > 5) and (row['prices'] <= 15):\n",
    "    return 'Mid-range product'\n",
    "  elif row['prices'] > 15:\n",
    "    return 'High range'\n",
    "  else: return 'Not enough data'"
   ]
  },
  {
   "cell_type": "code",
   "execution_count": 7,
   "id": "f5a66580",
   "metadata": {},
   "outputs": [
    {
     "name": "stderr",
     "output_type": "stream",
     "text": [
      "C:\\Users\\Jakov\\AppData\\Local\\Temp\\ipykernel_11356\\2848743372.py:1: SettingWithCopyWarning: \n",
      "A value is trying to be set on a copy of a slice from a DataFrame.\n",
      "Try using .loc[row_indexer,col_indexer] = value instead\n",
      "\n",
      "See the caveats in the documentation: https://pandas.pydata.org/pandas-docs/stable/user_guide/indexing.html#returning-a-view-versus-a-copy\n",
      "  df['price_range'] = df.apply(price_label, axis=1)\n"
     ]
    }
   ],
   "source": [
    "df['price_range'] = df.apply(price_label, axis=1)"
   ]
  },
  {
   "cell_type": "code",
   "execution_count": 8,
   "id": "e559bf8a",
   "metadata": {},
   "outputs": [
    {
     "data": {
      "text/plain": [
       "Mid-range product    983807\n",
       "Low-range product     16193\n",
       "Name: price_range, dtype: int64"
      ]
     },
     "execution_count": 8,
     "metadata": {},
     "output_type": "execute_result"
    }
   ],
   "source": [
    "df['price_range'].value_counts()"
   ]
  },
  {
   "cell_type": "code",
   "execution_count": 10,
   "id": "2c92b83c",
   "metadata": {},
   "outputs": [
    {
     "data": {
      "text/plain": [
       "13.7"
      ]
     },
     "execution_count": 10,
     "metadata": {},
     "output_type": "execute_result"
    }
   ],
   "source": [
    "df['prices'].max()"
   ]
  },
  {
   "cell_type": "code",
   "execution_count": 13,
   "id": "86e498c2",
   "metadata": {},
   "outputs": [
    {
     "name": "stderr",
     "output_type": "stream",
     "text": [
      "C:\\Users\\Jakov\\AppData\\Local\\Temp\\ipykernel_11356\\1169838859.py:1: SettingWithCopyWarning: \n",
      "A value is trying to be set on a copy of a slice from a DataFrame.\n",
      "Try using .loc[row_indexer,col_indexer] = value instead\n",
      "\n",
      "See the caveats in the documentation: https://pandas.pydata.org/pandas-docs/stable/user_guide/indexing.html#returning-a-view-versus-a-copy\n",
      "  df.loc[df['prices'] > 15, 'price_range_loc'] = 'High-range product'\n"
     ]
    }
   ],
   "source": [
    "df.loc[df['prices'] > 15, 'price_range_loc'] = 'High-range product'"
   ]
  },
  {
   "cell_type": "code",
   "execution_count": 14,
   "id": "0f90ee22",
   "metadata": {},
   "outputs": [],
   "source": [
    "df.loc[(df['prices'] <= 15) & (df['prices'] > 5), 'price_range_loc'] = 'Mid-range product' "
   ]
  },
  {
   "cell_type": "code",
   "execution_count": 15,
   "id": "c159109b",
   "metadata": {},
   "outputs": [],
   "source": [
    "df.loc[df['prices'] <= 5, 'price_range_loc'] = 'Low-range product'"
   ]
  },
  {
   "cell_type": "code",
   "execution_count": 16,
   "id": "b52a7459",
   "metadata": {},
   "outputs": [
    {
     "data": {
      "text/plain": [
       "Mid-range product    983807\n",
       "Low-range product     16193\n",
       "Name: price_range_loc, dtype: int64"
      ]
     },
     "execution_count": 16,
     "metadata": {},
     "output_type": "execute_result"
    }
   ],
   "source": [
    "df['price_range_loc'].value_counts()"
   ]
  },
  {
   "cell_type": "code",
   "execution_count": 17,
   "id": "72cf3c14",
   "metadata": {},
   "outputs": [],
   "source": [
    "df_ords_prods_merge.loc[df_ords_prods_merge['prices'] > 15, 'price_range'] = 'High-range product'"
   ]
  },
  {
   "cell_type": "code",
   "execution_count": 18,
   "id": "d61fec44",
   "metadata": {},
   "outputs": [],
   "source": [
    "df_ords_prods_merge.loc[(df_ords_prods_merge['prices'] <= 15) & (df_ords_prods_merge['prices'] > 5), 'price_range'] = 'Mid-range product'"
   ]
  },
  {
   "cell_type": "code",
   "execution_count": 19,
   "id": "e9d6a7c1",
   "metadata": {},
   "outputs": [],
   "source": [
    "df_ords_prods_merge.loc[df_ords_prods_merge['prices'] <= 5, 'price_range'] = 'Low-range product'"
   ]
  },
  {
   "cell_type": "code",
   "execution_count": 20,
   "id": "8877ef60",
   "metadata": {},
   "outputs": [
    {
     "data": {
      "text/plain": [
       "Mid-range product     21860860\n",
       "Low-range product     10126321\n",
       "High-range product      417678\n",
       "Name: price_range, dtype: int64"
      ]
     },
     "execution_count": 20,
     "metadata": {},
     "output_type": "execute_result"
    }
   ],
   "source": [
    "df_ords_prods_merge['price_range'].value_counts()"
   ]
  },
  {
   "cell_type": "code",
   "execution_count": 22,
   "id": "4d2b22b3",
   "metadata": {},
   "outputs": [
    {
     "data": {
      "text/plain": [
       "0    6204182\n",
       "1    5660230\n",
       "6    4496490\n",
       "2    4213830\n",
       "5    4205791\n",
       "3    3840534\n",
       "4    3783802\n",
       "Name: orders_day_of_a_week, dtype: int64"
      ]
     },
     "execution_count": 22,
     "metadata": {},
     "output_type": "execute_result"
    }
   ],
   "source": [
    "df_ords_prods_merge['orders_day_of_a_week'].value_counts()"
   ]
  },
  {
   "cell_type": "code",
   "execution_count": 24,
   "id": "8d104636",
   "metadata": {},
   "outputs": [],
   "source": [
    "result = []\n",
    "\n",
    "for value in df_ords_prods_merge[\"orders_day_of_a_week\"]:\n",
    "  if value == 0:\n",
    "    result.append(\"Busiest day\")\n",
    "  elif value == 4:\n",
    "    result.append(\"Least busy\")\n",
    "  else:\n",
    "    result.append(\"Regularly busy\")"
   ]
  },
  {
   "cell_type": "code",
   "execution_count": 25,
   "id": "38e3f30e",
   "metadata": {},
   "outputs": [],
   "source": [
    "df_ords_prods_merge['busiest_day'] = result"
   ]
  },
  {
   "cell_type": "code",
   "execution_count": 26,
   "id": "f49b6723",
   "metadata": {},
   "outputs": [
    {
     "data": {
      "text/plain": [
       "Regularly busy    22416875\n",
       "Busiest day        6204182\n",
       "Least busy         3783802\n",
       "Name: busiest_day, dtype: int64"
      ]
     },
     "execution_count": 26,
     "metadata": {},
     "output_type": "execute_result"
    }
   ],
   "source": [
    "df_ords_prods_merge['busiest_day'].value_counts()"
   ]
  },
  {
   "cell_type": "markdown",
   "id": "a47eacfd",
   "metadata": {},
   "source": [
    "# TASK"
   ]
  },
  {
   "cell_type": "markdown",
   "id": "d1caa76f",
   "metadata": {},
   "source": [
    "# 02."
   ]
  },
  {
   "cell_type": "code",
   "execution_count": 34,
   "id": "a343774d",
   "metadata": {},
   "outputs": [],
   "source": [
    "# Create new list for each purchased product with category of a day saleswise \n",
    "\n",
    "values = []\n",
    "\n",
    "for value in df_ords_prods_merge[\"orders_day_of_a_week\"]:\n",
    "  if (value == 0 ) | (value == 1):\n",
    "    values.append(\"Busiest days\")\n",
    "  elif (value == 3) | (value == 4):\n",
    "    values.append(\"Slowest days\")\n",
    "  else:\n",
    "    values.append(\"Regular days\")\n"
   ]
  },
  {
   "cell_type": "code",
   "execution_count": 35,
   "id": "5664780e",
   "metadata": {},
   "outputs": [],
   "source": [
    "# assign newly created list to new column\n",
    "\n",
    "df_ords_prods_merge['busiest_days'] = values"
   ]
  },
  {
   "cell_type": "code",
   "execution_count": 36,
   "id": "71717f57",
   "metadata": {},
   "outputs": [
    {
     "data": {
      "text/html": [
       "<div>\n",
       "<style scoped>\n",
       "    .dataframe tbody tr th:only-of-type {\n",
       "        vertical-align: middle;\n",
       "    }\n",
       "\n",
       "    .dataframe tbody tr th {\n",
       "        vertical-align: top;\n",
       "    }\n",
       "\n",
       "    .dataframe thead th {\n",
       "        text-align: right;\n",
       "    }\n",
       "</style>\n",
       "<table border=\"1\" class=\"dataframe\">\n",
       "  <thead>\n",
       "    <tr style=\"text-align: right;\">\n",
       "      <th></th>\n",
       "      <th>order_id</th>\n",
       "      <th>product_id</th>\n",
       "      <th>add_to_cart_order</th>\n",
       "      <th>reordered</th>\n",
       "      <th>user_id</th>\n",
       "      <th>order_number</th>\n",
       "      <th>orders_day_of_a_week</th>\n",
       "      <th>order_hour_of_day</th>\n",
       "      <th>days_since_prior_order</th>\n",
       "      <th>first_order_ever</th>\n",
       "      <th>product_name</th>\n",
       "      <th>aisle_id</th>\n",
       "      <th>department_id</th>\n",
       "      <th>prices</th>\n",
       "      <th>_merge</th>\n",
       "      <th>price_range</th>\n",
       "      <th>busiest_day</th>\n",
       "      <th>busiest_days</th>\n",
       "    </tr>\n",
       "  </thead>\n",
       "  <tbody>\n",
       "    <tr>\n",
       "      <th>0</th>\n",
       "      <td>2</td>\n",
       "      <td>33120</td>\n",
       "      <td>1</td>\n",
       "      <td>1</td>\n",
       "      <td>202279</td>\n",
       "      <td>3</td>\n",
       "      <td>5</td>\n",
       "      <td>9</td>\n",
       "      <td>8.0</td>\n",
       "      <td>False</td>\n",
       "      <td>Organic Egg Whites</td>\n",
       "      <td>86</td>\n",
       "      <td>16</td>\n",
       "      <td>11.3</td>\n",
       "      <td>both</td>\n",
       "      <td>Mid-range product</td>\n",
       "      <td>Regularly busy</td>\n",
       "      <td>Regular days</td>\n",
       "    </tr>\n",
       "    <tr>\n",
       "      <th>1</th>\n",
       "      <td>26</td>\n",
       "      <td>33120</td>\n",
       "      <td>5</td>\n",
       "      <td>0</td>\n",
       "      <td>153404</td>\n",
       "      <td>2</td>\n",
       "      <td>0</td>\n",
       "      <td>16</td>\n",
       "      <td>7.0</td>\n",
       "      <td>False</td>\n",
       "      <td>Organic Egg Whites</td>\n",
       "      <td>86</td>\n",
       "      <td>16</td>\n",
       "      <td>11.3</td>\n",
       "      <td>both</td>\n",
       "      <td>Mid-range product</td>\n",
       "      <td>Busiest day</td>\n",
       "      <td>Busiest days</td>\n",
       "    </tr>\n",
       "    <tr>\n",
       "      <th>2</th>\n",
       "      <td>120</td>\n",
       "      <td>33120</td>\n",
       "      <td>13</td>\n",
       "      <td>0</td>\n",
       "      <td>23750</td>\n",
       "      <td>11</td>\n",
       "      <td>6</td>\n",
       "      <td>8</td>\n",
       "      <td>10.0</td>\n",
       "      <td>False</td>\n",
       "      <td>Organic Egg Whites</td>\n",
       "      <td>86</td>\n",
       "      <td>16</td>\n",
       "      <td>11.3</td>\n",
       "      <td>both</td>\n",
       "      <td>Mid-range product</td>\n",
       "      <td>Regularly busy</td>\n",
       "      <td>Regular days</td>\n",
       "    </tr>\n",
       "    <tr>\n",
       "      <th>3</th>\n",
       "      <td>327</td>\n",
       "      <td>33120</td>\n",
       "      <td>5</td>\n",
       "      <td>1</td>\n",
       "      <td>58707</td>\n",
       "      <td>21</td>\n",
       "      <td>6</td>\n",
       "      <td>9</td>\n",
       "      <td>8.0</td>\n",
       "      <td>False</td>\n",
       "      <td>Organic Egg Whites</td>\n",
       "      <td>86</td>\n",
       "      <td>16</td>\n",
       "      <td>11.3</td>\n",
       "      <td>both</td>\n",
       "      <td>Mid-range product</td>\n",
       "      <td>Regularly busy</td>\n",
       "      <td>Regular days</td>\n",
       "    </tr>\n",
       "    <tr>\n",
       "      <th>4</th>\n",
       "      <td>390</td>\n",
       "      <td>33120</td>\n",
       "      <td>28</td>\n",
       "      <td>1</td>\n",
       "      <td>166654</td>\n",
       "      <td>48</td>\n",
       "      <td>0</td>\n",
       "      <td>12</td>\n",
       "      <td>9.0</td>\n",
       "      <td>False</td>\n",
       "      <td>Organic Egg Whites</td>\n",
       "      <td>86</td>\n",
       "      <td>16</td>\n",
       "      <td>11.3</td>\n",
       "      <td>both</td>\n",
       "      <td>Mid-range product</td>\n",
       "      <td>Busiest day</td>\n",
       "      <td>Busiest days</td>\n",
       "    </tr>\n",
       "    <tr>\n",
       "      <th>...</th>\n",
       "      <td>...</td>\n",
       "      <td>...</td>\n",
       "      <td>...</td>\n",
       "      <td>...</td>\n",
       "      <td>...</td>\n",
       "      <td>...</td>\n",
       "      <td>...</td>\n",
       "      <td>...</td>\n",
       "      <td>...</td>\n",
       "      <td>...</td>\n",
       "      <td>...</td>\n",
       "      <td>...</td>\n",
       "      <td>...</td>\n",
       "      <td>...</td>\n",
       "      <td>...</td>\n",
       "      <td>...</td>\n",
       "      <td>...</td>\n",
       "      <td>...</td>\n",
       "    </tr>\n",
       "    <tr>\n",
       "      <th>32404854</th>\n",
       "      <td>3265099</td>\n",
       "      <td>43492</td>\n",
       "      <td>3</td>\n",
       "      <td>0</td>\n",
       "      <td>111311</td>\n",
       "      <td>2</td>\n",
       "      <td>3</td>\n",
       "      <td>10</td>\n",
       "      <td>5.0</td>\n",
       "      <td>False</td>\n",
       "      <td>Gourmet Burger Seasoning</td>\n",
       "      <td>104</td>\n",
       "      <td>13</td>\n",
       "      <td>4.8</td>\n",
       "      <td>both</td>\n",
       "      <td>Low-range product</td>\n",
       "      <td>Regularly busy</td>\n",
       "      <td>Slowest days</td>\n",
       "    </tr>\n",
       "    <tr>\n",
       "      <th>32404855</th>\n",
       "      <td>3361945</td>\n",
       "      <td>43492</td>\n",
       "      <td>19</td>\n",
       "      <td>0</td>\n",
       "      <td>142932</td>\n",
       "      <td>25</td>\n",
       "      <td>3</td>\n",
       "      <td>10</td>\n",
       "      <td>5.0</td>\n",
       "      <td>False</td>\n",
       "      <td>Gourmet Burger Seasoning</td>\n",
       "      <td>104</td>\n",
       "      <td>13</td>\n",
       "      <td>4.8</td>\n",
       "      <td>both</td>\n",
       "      <td>Low-range product</td>\n",
       "      <td>Regularly busy</td>\n",
       "      <td>Slowest days</td>\n",
       "    </tr>\n",
       "    <tr>\n",
       "      <th>32404856</th>\n",
       "      <td>3267201</td>\n",
       "      <td>33097</td>\n",
       "      <td>2</td>\n",
       "      <td>0</td>\n",
       "      <td>183867</td>\n",
       "      <td>19</td>\n",
       "      <td>3</td>\n",
       "      <td>18</td>\n",
       "      <td>3.0</td>\n",
       "      <td>False</td>\n",
       "      <td>Piquillo &amp; Jalapeno Bruschetta</td>\n",
       "      <td>81</td>\n",
       "      <td>15</td>\n",
       "      <td>9.4</td>\n",
       "      <td>both</td>\n",
       "      <td>Mid-range product</td>\n",
       "      <td>Regularly busy</td>\n",
       "      <td>Slowest days</td>\n",
       "    </tr>\n",
       "    <tr>\n",
       "      <th>32404857</th>\n",
       "      <td>3393151</td>\n",
       "      <td>38977</td>\n",
       "      <td>32</td>\n",
       "      <td>0</td>\n",
       "      <td>79056</td>\n",
       "      <td>1</td>\n",
       "      <td>4</td>\n",
       "      <td>13</td>\n",
       "      <td>NaN</td>\n",
       "      <td>True</td>\n",
       "      <td>Original Jerky</td>\n",
       "      <td>100</td>\n",
       "      <td>21</td>\n",
       "      <td>1.5</td>\n",
       "      <td>both</td>\n",
       "      <td>Low-range product</td>\n",
       "      <td>Least busy</td>\n",
       "      <td>Slowest days</td>\n",
       "    </tr>\n",
       "    <tr>\n",
       "      <th>32404858</th>\n",
       "      <td>3400803</td>\n",
       "      <td>23624</td>\n",
       "      <td>7</td>\n",
       "      <td>0</td>\n",
       "      <td>152189</td>\n",
       "      <td>4</td>\n",
       "      <td>3</td>\n",
       "      <td>14</td>\n",
       "      <td>2.0</td>\n",
       "      <td>False</td>\n",
       "      <td>Flatbread Pizza All Natural</td>\n",
       "      <td>79</td>\n",
       "      <td>1</td>\n",
       "      <td>1.6</td>\n",
       "      <td>both</td>\n",
       "      <td>Low-range product</td>\n",
       "      <td>Regularly busy</td>\n",
       "      <td>Slowest days</td>\n",
       "    </tr>\n",
       "  </tbody>\n",
       "</table>\n",
       "<p>32404859 rows × 18 columns</p>\n",
       "</div>"
      ],
      "text/plain": [
       "          order_id  product_id  add_to_cart_order  reordered  user_id  \\\n",
       "0                2       33120                  1          1   202279   \n",
       "1               26       33120                  5          0   153404   \n",
       "2              120       33120                 13          0    23750   \n",
       "3              327       33120                  5          1    58707   \n",
       "4              390       33120                 28          1   166654   \n",
       "...            ...         ...                ...        ...      ...   \n",
       "32404854   3265099       43492                  3          0   111311   \n",
       "32404855   3361945       43492                 19          0   142932   \n",
       "32404856   3267201       33097                  2          0   183867   \n",
       "32404857   3393151       38977                 32          0    79056   \n",
       "32404858   3400803       23624                  7          0   152189   \n",
       "\n",
       "          order_number  orders_day_of_a_week  order_hour_of_day  \\\n",
       "0                    3                     5                  9   \n",
       "1                    2                     0                 16   \n",
       "2                   11                     6                  8   \n",
       "3                   21                     6                  9   \n",
       "4                   48                     0                 12   \n",
       "...                ...                   ...                ...   \n",
       "32404854             2                     3                 10   \n",
       "32404855            25                     3                 10   \n",
       "32404856            19                     3                 18   \n",
       "32404857             1                     4                 13   \n",
       "32404858             4                     3                 14   \n",
       "\n",
       "          days_since_prior_order  first_order_ever  \\\n",
       "0                            8.0             False   \n",
       "1                            7.0             False   \n",
       "2                           10.0             False   \n",
       "3                            8.0             False   \n",
       "4                            9.0             False   \n",
       "...                          ...               ...   \n",
       "32404854                     5.0             False   \n",
       "32404855                     5.0             False   \n",
       "32404856                     3.0             False   \n",
       "32404857                     NaN              True   \n",
       "32404858                     2.0             False   \n",
       "\n",
       "                            product_name  aisle_id  department_id  prices  \\\n",
       "0                     Organic Egg Whites        86             16    11.3   \n",
       "1                     Organic Egg Whites        86             16    11.3   \n",
       "2                     Organic Egg Whites        86             16    11.3   \n",
       "3                     Organic Egg Whites        86             16    11.3   \n",
       "4                     Organic Egg Whites        86             16    11.3   \n",
       "...                                  ...       ...            ...     ...   \n",
       "32404854        Gourmet Burger Seasoning       104             13     4.8   \n",
       "32404855        Gourmet Burger Seasoning       104             13     4.8   \n",
       "32404856  Piquillo & Jalapeno Bruschetta        81             15     9.4   \n",
       "32404857                  Original Jerky       100             21     1.5   \n",
       "32404858     Flatbread Pizza All Natural        79              1     1.6   \n",
       "\n",
       "         _merge        price_range     busiest_day  busiest_days  \n",
       "0          both  Mid-range product  Regularly busy  Regular days  \n",
       "1          both  Mid-range product     Busiest day  Busiest days  \n",
       "2          both  Mid-range product  Regularly busy  Regular days  \n",
       "3          both  Mid-range product  Regularly busy  Regular days  \n",
       "4          both  Mid-range product     Busiest day  Busiest days  \n",
       "...         ...                ...             ...           ...  \n",
       "32404854   both  Low-range product  Regularly busy  Slowest days  \n",
       "32404855   both  Low-range product  Regularly busy  Slowest days  \n",
       "32404856   both  Mid-range product  Regularly busy  Slowest days  \n",
       "32404857   both  Low-range product      Least busy  Slowest days  \n",
       "32404858   both  Low-range product  Regularly busy  Slowest days  \n",
       "\n",
       "[32404859 rows x 18 columns]"
      ]
     },
     "execution_count": 36,
     "metadata": {},
     "output_type": "execute_result"
    }
   ],
   "source": [
    "df_ords_prods_merge"
   ]
  },
  {
   "cell_type": "markdown",
   "id": "f6ad4c66",
   "metadata": {},
   "source": [
    "# Now, days are better categorized based on how many products were bought. In the previous column, days are not properly categorized."
   ]
  },
  {
   "cell_type": "code",
   "execution_count": 38,
   "id": "521e2935",
   "metadata": {},
   "outputs": [
    {
     "data": {
      "text/plain": [
       "Regular days    12916111\n",
       "Busiest days    11864412\n",
       "Slowest days     7624336\n",
       "Name: busiest_days, dtype: int64"
      ]
     },
     "execution_count": 38,
     "metadata": {},
     "output_type": "execute_result"
    }
   ],
   "source": [
    "df_ords_prods_merge['busiest_days'].value_counts()"
   ]
  },
  {
   "cell_type": "markdown",
   "id": "51554591",
   "metadata": {},
   "source": [
    "# 04."
   ]
  },
  {
   "cell_type": "code",
   "execution_count": 44,
   "id": "9dbb081c",
   "metadata": {},
   "outputs": [
    {
     "data": {
      "text/plain": [
       "10    2761760\n",
       "11    2736140\n",
       "14    2689136\n",
       "15    2662144\n",
       "13    2660954\n",
       "12    2618532\n",
       "16    2535202\n",
       "9     2454203\n",
       "17    2087654\n",
       "8     1718118\n",
       "18    1636502\n",
       "19    1258305\n",
       "20     976156\n",
       "7      891054\n",
       "21     795637\n",
       "22     634225\n",
       "23     402316\n",
       "6      290493\n",
       "0      218769\n",
       "1      115700\n",
       "5       87961\n",
       "2       69375\n",
       "4       53242\n",
       "3       51281\n",
       "Name: order_hour_of_day, dtype: int64"
      ]
     },
     "execution_count": 44,
     "metadata": {},
     "output_type": "execute_result"
    }
   ],
   "source": [
    "df_ords_prods_merge['order_hour_of_day'].value_counts()"
   ]
  },
  {
   "cell_type": "code",
   "execution_count": 47,
   "id": "adeab12f",
   "metadata": {},
   "outputs": [],
   "source": [
    "# Create the new list and fill it with periods of time \n",
    "\n",
    "periods = []\n",
    "\n",
    "for value in df_ords_prods_merge['order_hour_of_day']:\n",
    "    if (value >= 9) & (value <= 17):\n",
    "        periods.append('Most orders')\n",
    "    elif (value == 8) | (value == 18) | (value == 19):\n",
    "        periods.append('Average orders')\n",
    "    else:\n",
    "        periods.append('Fewest orders')"
   ]
  },
  {
   "cell_type": "code",
   "execution_count": 49,
   "id": "3d61a17e",
   "metadata": {},
   "outputs": [],
   "source": [
    "# assign newly created list to new column\n",
    "\n",
    "df_ords_prods_merge['busiest_period_of_day'] = periods"
   ]
  },
  {
   "cell_type": "markdown",
   "id": "5bc40882",
   "metadata": {},
   "source": [
    "# 05."
   ]
  },
  {
   "cell_type": "code",
   "execution_count": 51,
   "id": "61af9be8",
   "metadata": {},
   "outputs": [
    {
     "data": {
      "text/plain": [
       "Most orders       23205725\n",
       "Average orders     4612925\n",
       "Fewest orders      4586209\n",
       "Name: busiest_period_of_day, dtype: int64"
      ]
     },
     "execution_count": 51,
     "metadata": {},
     "output_type": "execute_result"
    }
   ],
   "source": [
    "df_ords_prods_merge['busiest_period_of_day'].value_counts()"
   ]
  },
  {
   "cell_type": "markdown",
   "id": "cda048d0",
   "metadata": {},
   "source": [
    "# 07."
   ]
  },
  {
   "cell_type": "code",
   "execution_count": 52,
   "id": "0afc2030",
   "metadata": {},
   "outputs": [],
   "source": [
    "# export the dataframe to pkl file\n",
    "\n",
    "df_ords_prods_merge.to_pickle(os.path.join(path, '02 Data','Prepared Data', 'orders_products_with_derived_columns.pkl'))"
   ]
  }
 ],
 "metadata": {
  "kernelspec": {
   "display_name": "Python 3 (ipykernel)",
   "language": "python",
   "name": "python3"
  },
  "language_info": {
   "codemirror_mode": {
    "name": "ipython",
    "version": 3
   },
   "file_extension": ".py",
   "mimetype": "text/x-python",
   "name": "python",
   "nbconvert_exporter": "python",
   "pygments_lexer": "ipython3",
   "version": "3.10.9"
  }
 },
 "nbformat": 4,
 "nbformat_minor": 5
}
