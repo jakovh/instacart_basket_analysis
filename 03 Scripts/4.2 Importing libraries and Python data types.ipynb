{
 "cells": [
  {
   "cell_type": "markdown",
   "id": "30a917cd",
   "metadata": {},
   "source": [
    "# 01. Importing libraries\n",
    "\n"
   ]
  },
  {
   "cell_type": "markdown",
   "id": "23d7f9b4",
   "metadata": {},
   "source": []
  },
  {
   "cell_type": "markdown",
   "id": "5e924487",
   "metadata": {},
   "source": [
    "# 01. Importing libraries"
   ]
  },
  {
   "cell_type": "code",
   "execution_count": 1,
   "id": "931a2434",
   "metadata": {},
   "outputs": [],
   "source": [
    "import pandas as pd #imports pandas library\n",
    "import numpy as np #imports numpy library\n",
    "import os #imports os"
   ]
  },
  {
   "cell_type": "markdown",
   "id": "a6eb7089",
   "metadata": {},
   "source": [
    "# 02. Working with data types"
   ]
  },
  {
   "cell_type": "code",
   "execution_count": 3,
   "id": "e09b7232",
   "metadata": {},
   "outputs": [
    {
     "name": "stdout",
     "output_type": "stream",
     "text": [
      "2.0\n",
      "I eat a watermelon.\n",
      "You do not eat a watermelon.\n"
     ]
    }
   ],
   "source": [
    "x = 99 + 1\n",
    "y = 50 + 50\n",
    "z = 102 - 100\n",
    "\n",
    "i = 7.5\n",
    "j = 3.75\n",
    "k = i / j\n",
    "\n",
    "wm = \"water\" + \"melon\"\n",
    "p = \"I eat a \" + wm + \".\"\n",
    "n = \"You do not eat a \" + wm + \".\"\n",
    "print(k)\n",
    "print(p)\n",
    "print(n)"
   ]
  },
  {
   "cell_type": "markdown",
   "id": "ce5d8798",
   "metadata": {},
   "source": [
    "# 03. Bonus task"
   ]
  },
  {
   "cell_type": "code",
   "execution_count": 4,
   "id": "3d6209d4",
   "metadata": {},
   "outputs": [
    {
     "name": "stdout",
     "output_type": "stream",
     "text": [
      "watermelonwatermelonwatermelonwatermelonwatermelonwatermelonwatermelonwatermelonwatermelonwatermelonwatermelonwatermelonwatermelonwatermelonwatermelonwatermelonwatermelonwatermelonwatermelonwatermelonwatermelonwatermelonwatermelonwatermelonwatermelonwatermelonwatermelonwatermelonwatermelonwatermelonwatermelonwatermelonwatermelonwatermelonwatermelonwatermelonwatermelonwatermelonwatermelonwatermelonwatermelonwatermelonwatermelonwatermelonwatermelonwatermelonwatermelonwatermelonwatermelonwatermelonwatermelonwatermelonwatermelonwatermelonwatermelonwatermelonwatermelonwatermelonwatermelonwatermelonwatermelonwatermelonwatermelonwatermelonwatermelonwatermelonwatermelonwatermelonwatermelonwatermelonwatermelonwatermelonwatermelonwatermelonwatermelonwatermelonwatermelonwatermelonwatermelonwatermelonwatermelonwatermelonwatermelonwatermelonwatermelonwatermelonwatermelonwatermelonwatermelonwatermelonwatermelonwatermelonwatermelonwatermelonwatermelonwatermelonwatermelonwatermelonwatermelonwatermelon\n"
     ]
    }
   ],
   "source": [
    "print(wm*100)"
   ]
  },
  {
   "cell_type": "code",
   "execution_count": null,
   "id": "d5050581",
   "metadata": {},
   "outputs": [],
   "source": []
  }
 ],
 "metadata": {
  "kernelspec": {
   "display_name": "Python 3 (ipykernel)",
   "language": "python",
   "name": "python3"
  },
  "language_info": {
   "codemirror_mode": {
    "name": "ipython",
    "version": 3
   },
   "file_extension": ".py",
   "mimetype": "text/x-python",
   "name": "python",
   "nbconvert_exporter": "python",
   "pygments_lexer": "ipython3",
   "version": "3.10.9"
  }
 },
 "nbformat": 4,
 "nbformat_minor": 5
}
